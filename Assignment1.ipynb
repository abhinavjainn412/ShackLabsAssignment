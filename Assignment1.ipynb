{
 "cells": [
  {
   "cell_type": "markdown",
   "metadata": {},
   "source": [
    "# Assignment1"
   ]
  },
  {
   "cell_type": "code",
   "execution_count": 42,
   "metadata": {},
   "outputs": [],
   "source": [
    "import pandas as pd"
   ]
  },
  {
   "cell_type": "code",
   "execution_count": 43,
   "metadata": {},
   "outputs": [],
   "source": [
    "import matplotlib.pyplot as plt"
   ]
  },
  {
   "cell_type": "code",
   "execution_count": 53,
   "metadata": {},
   "outputs": [],
   "source": [
    "df=pd.read_excel('assign1.xlsx')"
   ]
  },
  {
   "cell_type": "code",
   "execution_count": 54,
   "metadata": {},
   "outputs": [
    {
     "data": {
      "text/html": [
       "<div>\n",
       "<style scoped>\n",
       "    .dataframe tbody tr th:only-of-type {\n",
       "        vertical-align: middle;\n",
       "    }\n",
       "\n",
       "    .dataframe tbody tr th {\n",
       "        vertical-align: top;\n",
       "    }\n",
       "\n",
       "    .dataframe thead th {\n",
       "        text-align: right;\n",
       "    }\n",
       "</style>\n",
       "<table border=\"1\" class=\"dataframe\">\n",
       "  <thead>\n",
       "    <tr style=\"text-align: right;\">\n",
       "      <th></th>\n",
       "      <th>Transaction date</th>\n",
       "      <th>House Age</th>\n",
       "      <th>Distance from nearest Metro station (km)</th>\n",
       "      <th>Number of convenience stores</th>\n",
       "      <th>latitude</th>\n",
       "      <th>longitude</th>\n",
       "      <th>Number of bedrooms</th>\n",
       "      <th>House size (sqft)</th>\n",
       "      <th>House price of unit area</th>\n",
       "    </tr>\n",
       "  </thead>\n",
       "  <tbody>\n",
       "    <tr>\n",
       "      <th>0</th>\n",
       "      <td>2012.916667</td>\n",
       "      <td>32.0</td>\n",
       "      <td>84.87882</td>\n",
       "      <td>10</td>\n",
       "      <td>24.98298</td>\n",
       "      <td>121.54024</td>\n",
       "      <td>1</td>\n",
       "      <td>575</td>\n",
       "      <td>37.9</td>\n",
       "    </tr>\n",
       "    <tr>\n",
       "      <th>1</th>\n",
       "      <td>2012.916667</td>\n",
       "      <td>19.5</td>\n",
       "      <td>306.59470</td>\n",
       "      <td>9</td>\n",
       "      <td>24.98034</td>\n",
       "      <td>121.53951</td>\n",
       "      <td>2</td>\n",
       "      <td>1240</td>\n",
       "      <td>42.2</td>\n",
       "    </tr>\n",
       "    <tr>\n",
       "      <th>2</th>\n",
       "      <td>2013.583333</td>\n",
       "      <td>13.3</td>\n",
       "      <td>561.98450</td>\n",
       "      <td>5</td>\n",
       "      <td>24.98746</td>\n",
       "      <td>121.54391</td>\n",
       "      <td>3</td>\n",
       "      <td>1060</td>\n",
       "      <td>47.3</td>\n",
       "    </tr>\n",
       "    <tr>\n",
       "      <th>3</th>\n",
       "      <td>2013.500000</td>\n",
       "      <td>13.3</td>\n",
       "      <td>561.98450</td>\n",
       "      <td>5</td>\n",
       "      <td>24.98746</td>\n",
       "      <td>121.54391</td>\n",
       "      <td>2</td>\n",
       "      <td>875</td>\n",
       "      <td>54.8</td>\n",
       "    </tr>\n",
       "    <tr>\n",
       "      <th>4</th>\n",
       "      <td>2012.833333</td>\n",
       "      <td>5.0</td>\n",
       "      <td>390.56840</td>\n",
       "      <td>5</td>\n",
       "      <td>24.97937</td>\n",
       "      <td>121.54245</td>\n",
       "      <td>1</td>\n",
       "      <td>491</td>\n",
       "      <td>43.1</td>\n",
       "    </tr>\n",
       "  </tbody>\n",
       "</table>\n",
       "</div>"
      ],
      "text/plain": [
       "   Transaction date  House Age  Distance from nearest Metro station (km)  \\\n",
       "0       2012.916667       32.0                                  84.87882   \n",
       "1       2012.916667       19.5                                 306.59470   \n",
       "2       2013.583333       13.3                                 561.98450   \n",
       "3       2013.500000       13.3                                 561.98450   \n",
       "4       2012.833333        5.0                                 390.56840   \n",
       "\n",
       "   Number of convenience stores  latitude  longitude  Number of bedrooms  \\\n",
       "0                            10  24.98298  121.54024                   1   \n",
       "1                             9  24.98034  121.53951                   2   \n",
       "2                             5  24.98746  121.54391                   3   \n",
       "3                             5  24.98746  121.54391                   2   \n",
       "4                             5  24.97937  121.54245                   1   \n",
       "\n",
       "   House size (sqft)  House price of unit area  \n",
       "0                575                      37.9  \n",
       "1               1240                      42.2  \n",
       "2               1060                      47.3  \n",
       "3                875                      54.8  \n",
       "4                491                      43.1  "
      ]
     },
     "execution_count": 54,
     "metadata": {},
     "output_type": "execute_result"
    }
   ],
   "source": [
    "df.head()"
   ]
  },
  {
   "cell_type": "code",
   "execution_count": 55,
   "metadata": {},
   "outputs": [
    {
     "data": {
      "text/plain": [
       "Transaction date                            0\n",
       "House Age                                   0\n",
       "Distance from nearest Metro station (km)    0\n",
       "Number of convenience stores                0\n",
       "latitude                                    0\n",
       "longitude                                   0\n",
       "Number of bedrooms                          0\n",
       "House size (sqft)                           0\n",
       "House price of unit area                    0\n",
       "dtype: int64"
      ]
     },
     "execution_count": 55,
     "metadata": {},
     "output_type": "execute_result"
    }
   ],
   "source": [
    "df.isnull().sum()"
   ]
  },
  {
   "cell_type": "code",
   "execution_count": 56,
   "metadata": {},
   "outputs": [
    {
     "name": "stdout",
     "output_type": "stream",
     "text": [
      "<class 'pandas.core.frame.DataFrame'>\n",
      "RangeIndex: 414 entries, 0 to 413\n",
      "Data columns (total 9 columns):\n",
      " #   Column                                    Non-Null Count  Dtype  \n",
      "---  ------                                    --------------  -----  \n",
      " 0   Transaction date                          414 non-null    float64\n",
      " 1   House Age                                 414 non-null    float64\n",
      " 2   Distance from nearest Metro station (km)  414 non-null    float64\n",
      " 3   Number of convenience stores              414 non-null    int64  \n",
      " 4   latitude                                  414 non-null    float64\n",
      " 5   longitude                                 414 non-null    float64\n",
      " 6   Number of bedrooms                        414 non-null    int64  \n",
      " 7   House size (sqft)                         414 non-null    int64  \n",
      " 8   House price of unit area                  414 non-null    float64\n",
      "dtypes: float64(6), int64(3)\n",
      "memory usage: 29.2 KB\n"
     ]
    }
   ],
   "source": [
    "df.info()"
   ]
  },
  {
   "cell_type": "code",
   "execution_count": 62,
   "metadata": {},
   "outputs": [],
   "source": [
    "import seaborn as sn"
   ]
  },
  {
   "cell_type": "code",
   "execution_count": 64,
   "metadata": {},
   "outputs": [],
   "source": [
    "g=df.corr()"
   ]
  },
  {
   "cell_type": "code",
   "execution_count": 66,
   "metadata": {},
   "outputs": [
    {
     "data": {
      "text/html": [
       "<div>\n",
       "<style scoped>\n",
       "    .dataframe tbody tr th:only-of-type {\n",
       "        vertical-align: middle;\n",
       "    }\n",
       "\n",
       "    .dataframe tbody tr th {\n",
       "        vertical-align: top;\n",
       "    }\n",
       "\n",
       "    .dataframe thead th {\n",
       "        text-align: right;\n",
       "    }\n",
       "</style>\n",
       "<table border=\"1\" class=\"dataframe\">\n",
       "  <thead>\n",
       "    <tr style=\"text-align: right;\">\n",
       "      <th></th>\n",
       "      <th>Transaction date</th>\n",
       "      <th>House Age</th>\n",
       "      <th>Distance from nearest Metro station (km)</th>\n",
       "      <th>Number of convenience stores</th>\n",
       "      <th>latitude</th>\n",
       "      <th>longitude</th>\n",
       "      <th>Number of bedrooms</th>\n",
       "      <th>House size (sqft)</th>\n",
       "      <th>House price of unit area</th>\n",
       "    </tr>\n",
       "  </thead>\n",
       "  <tbody>\n",
       "    <tr>\n",
       "      <th>Transaction date</th>\n",
       "      <td>1.000000</td>\n",
       "      <td>0.017542</td>\n",
       "      <td>0.060880</td>\n",
       "      <td>0.009544</td>\n",
       "      <td>0.035016</td>\n",
       "      <td>-0.041065</td>\n",
       "      <td>0.061985</td>\n",
       "      <td>0.068405</td>\n",
       "      <td>0.087529</td>\n",
       "    </tr>\n",
       "    <tr>\n",
       "      <th>House Age</th>\n",
       "      <td>0.017542</td>\n",
       "      <td>1.000000</td>\n",
       "      <td>0.025622</td>\n",
       "      <td>0.049593</td>\n",
       "      <td>0.054420</td>\n",
       "      <td>-0.048520</td>\n",
       "      <td>-0.008756</td>\n",
       "      <td>-0.060361</td>\n",
       "      <td>-0.210567</td>\n",
       "    </tr>\n",
       "    <tr>\n",
       "      <th>Distance from nearest Metro station (km)</th>\n",
       "      <td>0.060880</td>\n",
       "      <td>0.025622</td>\n",
       "      <td>1.000000</td>\n",
       "      <td>-0.602519</td>\n",
       "      <td>-0.591067</td>\n",
       "      <td>-0.806317</td>\n",
       "      <td>-0.046856</td>\n",
       "      <td>0.001795</td>\n",
       "      <td>-0.673613</td>\n",
       "    </tr>\n",
       "    <tr>\n",
       "      <th>Number of convenience stores</th>\n",
       "      <td>0.009544</td>\n",
       "      <td>0.049593</td>\n",
       "      <td>-0.602519</td>\n",
       "      <td>1.000000</td>\n",
       "      <td>0.444143</td>\n",
       "      <td>0.449099</td>\n",
       "      <td>0.043638</td>\n",
       "      <td>0.033286</td>\n",
       "      <td>0.571005</td>\n",
       "    </tr>\n",
       "    <tr>\n",
       "      <th>latitude</th>\n",
       "      <td>0.035016</td>\n",
       "      <td>0.054420</td>\n",
       "      <td>-0.591067</td>\n",
       "      <td>0.444143</td>\n",
       "      <td>1.000000</td>\n",
       "      <td>0.412924</td>\n",
       "      <td>0.043921</td>\n",
       "      <td>0.031696</td>\n",
       "      <td>0.546307</td>\n",
       "    </tr>\n",
       "    <tr>\n",
       "      <th>longitude</th>\n",
       "      <td>-0.041065</td>\n",
       "      <td>-0.048520</td>\n",
       "      <td>-0.806317</td>\n",
       "      <td>0.449099</td>\n",
       "      <td>0.412924</td>\n",
       "      <td>1.000000</td>\n",
       "      <td>0.041680</td>\n",
       "      <td>0.009322</td>\n",
       "      <td>0.523287</td>\n",
       "    </tr>\n",
       "    <tr>\n",
       "      <th>Number of bedrooms</th>\n",
       "      <td>0.061985</td>\n",
       "      <td>-0.008756</td>\n",
       "      <td>-0.046856</td>\n",
       "      <td>0.043638</td>\n",
       "      <td>0.043921</td>\n",
       "      <td>0.041680</td>\n",
       "      <td>1.000000</td>\n",
       "      <td>0.752276</td>\n",
       "      <td>0.050265</td>\n",
       "    </tr>\n",
       "    <tr>\n",
       "      <th>House size (sqft)</th>\n",
       "      <td>0.068405</td>\n",
       "      <td>-0.060361</td>\n",
       "      <td>0.001795</td>\n",
       "      <td>0.033286</td>\n",
       "      <td>0.031696</td>\n",
       "      <td>0.009322</td>\n",
       "      <td>0.752276</td>\n",
       "      <td>1.000000</td>\n",
       "      <td>0.046489</td>\n",
       "    </tr>\n",
       "    <tr>\n",
       "      <th>House price of unit area</th>\n",
       "      <td>0.087529</td>\n",
       "      <td>-0.210567</td>\n",
       "      <td>-0.673613</td>\n",
       "      <td>0.571005</td>\n",
       "      <td>0.546307</td>\n",
       "      <td>0.523287</td>\n",
       "      <td>0.050265</td>\n",
       "      <td>0.046489</td>\n",
       "      <td>1.000000</td>\n",
       "    </tr>\n",
       "  </tbody>\n",
       "</table>\n",
       "</div>"
      ],
      "text/plain": [
       "                                          Transaction date  House Age  \\\n",
       "Transaction date                                  1.000000   0.017542   \n",
       "House Age                                         0.017542   1.000000   \n",
       "Distance from nearest Metro station (km)          0.060880   0.025622   \n",
       "Number of convenience stores                      0.009544   0.049593   \n",
       "latitude                                          0.035016   0.054420   \n",
       "longitude                                        -0.041065  -0.048520   \n",
       "Number of bedrooms                                0.061985  -0.008756   \n",
       "House size (sqft)                                 0.068405  -0.060361   \n",
       "House price of unit area                          0.087529  -0.210567   \n",
       "\n",
       "                                          Distance from nearest Metro station (km)  \\\n",
       "Transaction date                                                          0.060880   \n",
       "House Age                                                                 0.025622   \n",
       "Distance from nearest Metro station (km)                                  1.000000   \n",
       "Number of convenience stores                                             -0.602519   \n",
       "latitude                                                                 -0.591067   \n",
       "longitude                                                                -0.806317   \n",
       "Number of bedrooms                                                       -0.046856   \n",
       "House size (sqft)                                                         0.001795   \n",
       "House price of unit area                                                 -0.673613   \n",
       "\n",
       "                                          Number of convenience stores  \\\n",
       "Transaction date                                              0.009544   \n",
       "House Age                                                     0.049593   \n",
       "Distance from nearest Metro station (km)                     -0.602519   \n",
       "Number of convenience stores                                  1.000000   \n",
       "latitude                                                      0.444143   \n",
       "longitude                                                     0.449099   \n",
       "Number of bedrooms                                            0.043638   \n",
       "House size (sqft)                                             0.033286   \n",
       "House price of unit area                                      0.571005   \n",
       "\n",
       "                                          latitude  longitude  \\\n",
       "Transaction date                          0.035016  -0.041065   \n",
       "House Age                                 0.054420  -0.048520   \n",
       "Distance from nearest Metro station (km) -0.591067  -0.806317   \n",
       "Number of convenience stores              0.444143   0.449099   \n",
       "latitude                                  1.000000   0.412924   \n",
       "longitude                                 0.412924   1.000000   \n",
       "Number of bedrooms                        0.043921   0.041680   \n",
       "House size (sqft)                         0.031696   0.009322   \n",
       "House price of unit area                  0.546307   0.523287   \n",
       "\n",
       "                                          Number of bedrooms  \\\n",
       "Transaction date                                    0.061985   \n",
       "House Age                                          -0.008756   \n",
       "Distance from nearest Metro station (km)           -0.046856   \n",
       "Number of convenience stores                        0.043638   \n",
       "latitude                                            0.043921   \n",
       "longitude                                           0.041680   \n",
       "Number of bedrooms                                  1.000000   \n",
       "House size (sqft)                                   0.752276   \n",
       "House price of unit area                            0.050265   \n",
       "\n",
       "                                          House size (sqft)  \\\n",
       "Transaction date                                   0.068405   \n",
       "House Age                                         -0.060361   \n",
       "Distance from nearest Metro station (km)           0.001795   \n",
       "Number of convenience stores                       0.033286   \n",
       "latitude                                           0.031696   \n",
       "longitude                                          0.009322   \n",
       "Number of bedrooms                                 0.752276   \n",
       "House size (sqft)                                  1.000000   \n",
       "House price of unit area                           0.046489   \n",
       "\n",
       "                                          House price of unit area  \n",
       "Transaction date                                          0.087529  \n",
       "House Age                                                -0.210567  \n",
       "Distance from nearest Metro station (km)                 -0.673613  \n",
       "Number of convenience stores                              0.571005  \n",
       "latitude                                                  0.546307  \n",
       "longitude                                                 0.523287  \n",
       "Number of bedrooms                                        0.050265  \n",
       "House size (sqft)                                         0.046489  \n",
       "House price of unit area                                  1.000000  "
      ]
     },
     "execution_count": 66,
     "metadata": {},
     "output_type": "execute_result"
    }
   ],
   "source": [
    "g"
   ]
  },
  {
   "cell_type": "code",
   "execution_count": 67,
   "metadata": {},
   "outputs": [
    {
     "data": {
      "text/plain": [
       "0.08752927169725987"
      ]
     },
     "execution_count": 67,
     "metadata": {},
     "output_type": "execute_result"
    }
   ],
   "source": [
    "df['House price of unit area'].corr(df['Transaction date'])"
   ]
  },
  {
   "cell_type": "code",
   "execution_count": 68,
   "metadata": {},
   "outputs": [
    {
     "data": {
      "text/plain": [
       "-0.21056704627721676"
      ]
     },
     "execution_count": 68,
     "metadata": {},
     "output_type": "execute_result"
    }
   ],
   "source": [
    "df['House price of unit area'].corr(df['House Age'])"
   ]
  },
  {
   "cell_type": "code",
   "execution_count": 69,
   "metadata": {},
   "outputs": [
    {
     "data": {
      "text/plain": [
       "'\\nNumber of convenience stores 0.571005\\nlatitude 0.546307\\nlongitude 0.523287\\nTransaction date 0.087529\\nNumber of bedrooms 0.050265\\nHouse size (sqft) 0.046489\\nHouse Age -0.210567\\nDistance from nearest Metro station (km) -0.673613\\n'"
      ]
     },
     "execution_count": 69,
     "metadata": {},
     "output_type": "execute_result"
    }
   ],
   "source": [
    "### Relationship between House price of unit area and other features in descending order\n",
    "\"\"\"\n",
    "Number of convenience stores 0.571005\n",
    "latitude 0.546307\n",
    "longitude 0.523287\n",
    "Transaction date 0.087529\n",
    "Number of bedrooms 0.050265\n",
    "House size (sqft) 0.046489\n",
    "House Age -0.210567\n",
    "Distance from nearest Metro station (km) -0.673613\n",
    "\"\"\""
   ]
  },
  {
   "cell_type": "code",
   "execution_count": 111,
   "metadata": {},
   "outputs": [],
   "source": [
    "###Lets take the top features that are related to House price of unit area as x\n",
    "x=df.drop(['House price of unit area'],axis=1)"
   ]
  },
  {
   "cell_type": "code",
   "execution_count": 112,
   "metadata": {},
   "outputs": [
    {
     "data": {
      "text/html": [
       "<div>\n",
       "<style scoped>\n",
       "    .dataframe tbody tr th:only-of-type {\n",
       "        vertical-align: middle;\n",
       "    }\n",
       "\n",
       "    .dataframe tbody tr th {\n",
       "        vertical-align: top;\n",
       "    }\n",
       "\n",
       "    .dataframe thead th {\n",
       "        text-align: right;\n",
       "    }\n",
       "</style>\n",
       "<table border=\"1\" class=\"dataframe\">\n",
       "  <thead>\n",
       "    <tr style=\"text-align: right;\">\n",
       "      <th></th>\n",
       "      <th>Transaction date</th>\n",
       "      <th>House Age</th>\n",
       "      <th>Distance from nearest Metro station (km)</th>\n",
       "      <th>Number of convenience stores</th>\n",
       "      <th>latitude</th>\n",
       "      <th>longitude</th>\n",
       "      <th>Number of bedrooms</th>\n",
       "      <th>House size (sqft)</th>\n",
       "    </tr>\n",
       "  </thead>\n",
       "  <tbody>\n",
       "    <tr>\n",
       "      <th>0</th>\n",
       "      <td>2012.916667</td>\n",
       "      <td>32.0</td>\n",
       "      <td>84.87882</td>\n",
       "      <td>10</td>\n",
       "      <td>24.98298</td>\n",
       "      <td>121.54024</td>\n",
       "      <td>1</td>\n",
       "      <td>575</td>\n",
       "    </tr>\n",
       "    <tr>\n",
       "      <th>1</th>\n",
       "      <td>2012.916667</td>\n",
       "      <td>19.5</td>\n",
       "      <td>306.59470</td>\n",
       "      <td>9</td>\n",
       "      <td>24.98034</td>\n",
       "      <td>121.53951</td>\n",
       "      <td>2</td>\n",
       "      <td>1240</td>\n",
       "    </tr>\n",
       "    <tr>\n",
       "      <th>2</th>\n",
       "      <td>2013.583333</td>\n",
       "      <td>13.3</td>\n",
       "      <td>561.98450</td>\n",
       "      <td>5</td>\n",
       "      <td>24.98746</td>\n",
       "      <td>121.54391</td>\n",
       "      <td>3</td>\n",
       "      <td>1060</td>\n",
       "    </tr>\n",
       "    <tr>\n",
       "      <th>3</th>\n",
       "      <td>2013.500000</td>\n",
       "      <td>13.3</td>\n",
       "      <td>561.98450</td>\n",
       "      <td>5</td>\n",
       "      <td>24.98746</td>\n",
       "      <td>121.54391</td>\n",
       "      <td>2</td>\n",
       "      <td>875</td>\n",
       "    </tr>\n",
       "    <tr>\n",
       "      <th>4</th>\n",
       "      <td>2012.833333</td>\n",
       "      <td>5.0</td>\n",
       "      <td>390.56840</td>\n",
       "      <td>5</td>\n",
       "      <td>24.97937</td>\n",
       "      <td>121.54245</td>\n",
       "      <td>1</td>\n",
       "      <td>491</td>\n",
       "    </tr>\n",
       "  </tbody>\n",
       "</table>\n",
       "</div>"
      ],
      "text/plain": [
       "   Transaction date  House Age  Distance from nearest Metro station (km)  \\\n",
       "0       2012.916667       32.0                                  84.87882   \n",
       "1       2012.916667       19.5                                 306.59470   \n",
       "2       2013.583333       13.3                                 561.98450   \n",
       "3       2013.500000       13.3                                 561.98450   \n",
       "4       2012.833333        5.0                                 390.56840   \n",
       "\n",
       "   Number of convenience stores  latitude  longitude  Number of bedrooms  \\\n",
       "0                            10  24.98298  121.54024                   1   \n",
       "1                             9  24.98034  121.53951                   2   \n",
       "2                             5  24.98746  121.54391                   3   \n",
       "3                             5  24.98746  121.54391                   2   \n",
       "4                             5  24.97937  121.54245                   1   \n",
       "\n",
       "   House size (sqft)  \n",
       "0                575  \n",
       "1               1240  \n",
       "2               1060  \n",
       "3                875  \n",
       "4                491  "
      ]
     },
     "execution_count": 112,
     "metadata": {},
     "output_type": "execute_result"
    }
   ],
   "source": [
    "x.head()"
   ]
  },
  {
   "cell_type": "code",
   "execution_count": 113,
   "metadata": {},
   "outputs": [],
   "source": [
    "y=pd.DataFrame(df['House price of unit area'])"
   ]
  },
  {
   "cell_type": "code",
   "execution_count": 114,
   "metadata": {},
   "outputs": [
    {
     "data": {
      "text/html": [
       "<div>\n",
       "<style scoped>\n",
       "    .dataframe tbody tr th:only-of-type {\n",
       "        vertical-align: middle;\n",
       "    }\n",
       "\n",
       "    .dataframe tbody tr th {\n",
       "        vertical-align: top;\n",
       "    }\n",
       "\n",
       "    .dataframe thead th {\n",
       "        text-align: right;\n",
       "    }\n",
       "</style>\n",
       "<table border=\"1\" class=\"dataframe\">\n",
       "  <thead>\n",
       "    <tr style=\"text-align: right;\">\n",
       "      <th></th>\n",
       "      <th>House price of unit area</th>\n",
       "    </tr>\n",
       "  </thead>\n",
       "  <tbody>\n",
       "    <tr>\n",
       "      <th>0</th>\n",
       "      <td>37.9</td>\n",
       "    </tr>\n",
       "    <tr>\n",
       "      <th>1</th>\n",
       "      <td>42.2</td>\n",
       "    </tr>\n",
       "    <tr>\n",
       "      <th>2</th>\n",
       "      <td>47.3</td>\n",
       "    </tr>\n",
       "    <tr>\n",
       "      <th>3</th>\n",
       "      <td>54.8</td>\n",
       "    </tr>\n",
       "    <tr>\n",
       "      <th>4</th>\n",
       "      <td>43.1</td>\n",
       "    </tr>\n",
       "  </tbody>\n",
       "</table>\n",
       "</div>"
      ],
      "text/plain": [
       "   House price of unit area\n",
       "0                      37.9\n",
       "1                      42.2\n",
       "2                      47.3\n",
       "3                      54.8\n",
       "4                      43.1"
      ]
     },
     "execution_count": 114,
     "metadata": {},
     "output_type": "execute_result"
    }
   ],
   "source": [
    "y.head()"
   ]
  },
  {
   "cell_type": "code",
   "execution_count": 115,
   "metadata": {},
   "outputs": [],
   "source": [
    "from sklearn import preprocessing\n",
    "min_max_scaler = preprocessing.MinMaxScaler()\n",
    "x = min_max_scaler.fit_transform(x)"
   ]
  },
  {
   "cell_type": "code",
   "execution_count": 116,
   "metadata": {},
   "outputs": [
    {
     "data": {
      "text/plain": [
       "array([[0.27272729, 0.73059361, 0.00951267, ..., 0.71932284, 0.        ,\n",
       "        0.1575592 ],\n",
       "       [0.27272729, 0.44520548, 0.04380939, ..., 0.71145137, 0.5       ,\n",
       "        0.76320583],\n",
       "       [1.        , 0.30365297, 0.08331505, ..., 0.75889584, 1.        ,\n",
       "        0.5992714 ],\n",
       "       ...,\n",
       "       [0.63636365, 0.42922374, 0.05686115, ..., 0.71522536, 0.        ,\n",
       "        0.09198543],\n",
       "       [0.36363635, 0.18493151, 0.0125958 , ..., 0.72395946, 0.        ,\n",
       "        0.17759563],\n",
       "       [0.90909094, 0.14840183, 0.0103754 , ..., 0.75016174, 0.5       ,\n",
       "        0.63296903]])"
      ]
     },
     "execution_count": 116,
     "metadata": {},
     "output_type": "execute_result"
    }
   ],
   "source": [
    "x"
   ]
  },
  {
   "cell_type": "code",
   "execution_count": 121,
   "metadata": {},
   "outputs": [],
   "source": [
    "from sklearn.model_selection import train_test_split\n",
    "from sklearn.metrics import r2_score\n",
    "from sklearn.linear_model import LinearRegression\n",
    "from sklearn.tree import DecisionTreeRegressor\n",
    "from sklearn.ensemble import RandomForestRegressor\n",
    "from sklearn.metrics import explained_variance_score\n",
    "from sklearn.metrics import confusion_matrix\n"
   ]
  },
  {
   "cell_type": "code",
   "execution_count": 118,
   "metadata": {},
   "outputs": [],
   "source": [
    "X_train, X_test,y_train, y_test = train_test_split(x,y ,\n",
    "                                   random_state=1, \n",
    "                                   test_size=0.20, \n",
    "                                   shuffle=True)\n",
    "model = LinearRegression().fit(X_train, y_train)\n",
    "y_pred = model.predict(X_test)\n"
   ]
  },
  {
   "cell_type": "code",
   "execution_count": 119,
   "metadata": {},
   "outputs": [
    {
     "name": "stdout",
     "output_type": "stream",
     "text": [
      "0.6899543185423294\n"
     ]
    }
   ],
   "source": [
    "r2 = r2_score(y_test, y_pred)\n",
    "print(r2)"
   ]
  },
  {
   "cell_type": "code",
   "execution_count": 122,
   "metadata": {},
   "outputs": [],
   "source": [
    "tr_regressor = DecisionTreeRegressor(random_state=0)\n",
    "tr_regressor.fit(X_train,y_train)\n",
    "tr_regressor.score(X_test,y_test)\n",
    "pred_tr = tr_regressor.predict(X_test)\n",
    "decision_score=tr_regressor.score(X_test,y_test)\n",
    "expl_tr = explained_variance_score(pred_tr,y_test)"
   ]
  },
  {
   "cell_type": "code",
   "execution_count": 123,
   "metadata": {},
   "outputs": [
    {
     "name": "stderr",
     "output_type": "stream",
     "text": [
      "<ipython-input-123-c552e88c3e0a>:2: DataConversionWarning: A column-vector y was passed when a 1d array was expected. Please change the shape of y to (n_samples,), for example using ravel().\n",
      "  rf_regressor.fit(X_train,y_train)\n"
     ]
    }
   ],
   "source": [
    "rf_regressor = RandomForestRegressor(n_estimators=28,random_state=0)\n",
    "rf_regressor.fit(X_train,y_train)\n",
    "rf_regressor.score(X_test,y_test)\n",
    "rf_pred =rf_regressor.predict(X_test)\n",
    "rf_score=rf_regressor.score(X_test,y_test)\n",
    "expl_rf = explained_variance_score(rf_pred,y_test)"
   ]
  },
  {
   "cell_type": "code",
   "execution_count": 125,
   "metadata": {},
   "outputs": [
    {
     "name": "stdout",
     "output_type": "stream",
     "text": [
      "Decision tree  Regression Model Score is  46\n",
      "Random Forest Regression Model Score is  62\n"
     ]
    }
   ],
   "source": [
    "print(\"Decision tree  Regression Model Score is \",round(tr_regressor.score(X_test,y_test)*100))\n",
    "print(\"Random Forest Regression Model Score is \",round(rf_regressor.score(X_test,y_test)*100))"
   ]
  },
  {
   "cell_type": "code",
   "execution_count": 126,
   "metadata": {},
   "outputs": [],
   "source": [
    "# so we get the best accuracy from LinearRegression i.e. 68%"
   ]
  },
  {
   "cell_type": "code",
   "execution_count": null,
   "metadata": {},
   "outputs": [],
   "source": []
  }
 ],
 "metadata": {
  "kernelspec": {
   "display_name": "Python 3",
   "language": "python",
   "name": "python3"
  },
  "language_info": {
   "codemirror_mode": {
    "name": "ipython",
    "version": 3
   },
   "file_extension": ".py",
   "mimetype": "text/x-python",
   "name": "python",
   "nbconvert_exporter": "python",
   "pygments_lexer": "ipython3",
   "version": "3.8.5"
  }
 },
 "nbformat": 4,
 "nbformat_minor": 4
}
